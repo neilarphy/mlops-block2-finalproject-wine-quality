{
 "cells": [
  {
   "cell_type": "code",
   "execution_count": null,
   "id": "060ff218",
   "metadata": {},
   "outputs": [
    {
     "name": "stderr",
     "output_type": "stream",
     "text": [
      "2025/06/11 23:36:56 WARNING mlflow.models.model: Model logged without a signature and input example. Please set `input_example` parameter when logging the model to auto infer the model signature.\n"
     ]
    },
    {
     "name": "stdout",
     "output_type": "stream",
     "text": [
      "✅ {'n_estimators': 100, 'learning_rate': 0.1, 'max_depth': 5, 'min_samples_split': 3, 'min_samples_leaf': 2, 'random_state': 42} -> RMSE: 0.6064, R2: 0.4373\n"
     ]
    },
    {
     "name": "stderr",
     "output_type": "stream",
     "text": [
      "2025/06/11 23:37:01 WARNING mlflow.models.model: Model logged without a signature and input example. Please set `input_example` parameter when logging the model to auto infer the model signature.\n"
     ]
    },
    {
     "name": "stdout",
     "output_type": "stream",
     "text": [
      "✅ {'n_estimators': 100, 'learning_rate': 0.1, 'max_depth': 5, 'min_samples_split': 3, 'min_samples_leaf': 1, 'random_state': 42} -> RMSE: 0.5876, R2: 0.4716\n"
     ]
    },
    {
     "name": "stderr",
     "output_type": "stream",
     "text": [
      "2025/06/11 23:37:05 WARNING mlflow.models.model: Model logged without a signature and input example. Please set `input_example` parameter when logging the model to auto infer the model signature.\n"
     ]
    },
    {
     "name": "stdout",
     "output_type": "stream",
     "text": [
      "✅ {'n_estimators': 100, 'learning_rate': 0.05, 'max_depth': 3, 'min_samples_split': 2, 'min_samples_leaf': 1, 'random_state': 42} -> RMSE: 0.6071, R2: 0.4360\n"
     ]
    },
    {
     "name": "stderr",
     "output_type": "stream",
     "text": [
      "2025/06/11 23:37:11 WARNING mlflow.models.model: Model logged without a signature and input example. Please set `input_example` parameter when logging the model to auto infer the model signature.\n"
     ]
    },
    {
     "name": "stdout",
     "output_type": "stream",
     "text": [
      "✅ {'n_estimators': 150, 'learning_rate': 0.05, 'max_depth': 7, 'min_samples_split': 2, 'min_samples_leaf': 2, 'random_state': 42} -> RMSE: 0.5939, R2: 0.4603\n"
     ]
    },
    {
     "name": "stderr",
     "output_type": "stream",
     "text": [
      "2025/06/11 23:37:16 WARNING mlflow.models.model: Model logged without a signature and input example. Please set `input_example` parameter when logging the model to auto infer the model signature.\n"
     ]
    },
    {
     "name": "stdout",
     "output_type": "stream",
     "text": [
      "✅ {'n_estimators': 150, 'learning_rate': 0.05, 'max_depth': 5, 'min_samples_split': 3, 'min_samples_leaf': 1, 'random_state': 42} -> RMSE: 0.5933, R2: 0.4614\n"
     ]
    },
    {
     "name": "stderr",
     "output_type": "stream",
     "text": [
      "2025/06/11 23:37:21 WARNING mlflow.models.model: Model logged without a signature and input example. Please set `input_example` parameter when logging the model to auto infer the model signature.\n"
     ]
    },
    {
     "name": "stdout",
     "output_type": "stream",
     "text": [
      "✅ {'n_estimators': 150, 'learning_rate': 0.01, 'max_depth': 5, 'min_samples_split': 2, 'min_samples_leaf': 1, 'random_state': 42} -> RMSE: 0.6258, R2: 0.4007\n"
     ]
    },
    {
     "name": "stderr",
     "output_type": "stream",
     "text": [
      "2025/06/11 23:37:25 WARNING mlflow.models.model: Model logged without a signature and input example. Please set `input_example` parameter when logging the model to auto infer the model signature.\n"
     ]
    },
    {
     "name": "stdout",
     "output_type": "stream",
     "text": [
      "✅ {'n_estimators': 50, 'learning_rate': 0.1, 'max_depth': 5, 'min_samples_split': 2, 'min_samples_leaf': 1, 'random_state': 42} -> RMSE: 0.5942, R2: 0.4597\n"
     ]
    },
    {
     "name": "stderr",
     "output_type": "stream",
     "text": [
      "2025/06/11 23:37:30 WARNING mlflow.models.model: Model logged without a signature and input example. Please set `input_example` parameter when logging the model to auto infer the model signature.\n"
     ]
    },
    {
     "name": "stdout",
     "output_type": "stream",
     "text": [
      "✅ {'n_estimators': 150, 'learning_rate': 0.05, 'max_depth': 5, 'min_samples_split': 3, 'min_samples_leaf': 1, 'random_state': 42} -> RMSE: 0.5933, R2: 0.4614\n"
     ]
    },
    {
     "name": "stderr",
     "output_type": "stream",
     "text": [
      "2025/06/11 23:37:35 WARNING mlflow.models.model: Model logged without a signature and input example. Please set `input_example` parameter when logging the model to auto infer the model signature.\n"
     ]
    },
    {
     "name": "stdout",
     "output_type": "stream",
     "text": [
      "✅ {'n_estimators': 100, 'learning_rate': 0.05, 'max_depth': 3, 'min_samples_split': 3, 'min_samples_leaf': 1, 'random_state': 42} -> RMSE: 0.6069, R2: 0.4363\n"
     ]
    },
    {
     "name": "stderr",
     "output_type": "stream",
     "text": [
      "2025/06/11 23:37:40 WARNING mlflow.models.model: Model logged without a signature and input example. Please set `input_example` parameter when logging the model to auto infer the model signature.\n"
     ]
    },
    {
     "name": "stdout",
     "output_type": "stream",
     "text": [
      "✅ {'n_estimators': 50, 'learning_rate': 0.1, 'max_depth': 3, 'min_samples_split': 2, 'min_samples_leaf': 1, 'random_state': 42} -> RMSE: 0.6072, R2: 0.4359\n",
      "\n",
      "🏆 Лучшая модель GBR:\n",
      "{'n_estimators': 100, 'learning_rate': 0.1, 'max_depth': 5, 'min_samples_split': 3, 'min_samples_leaf': 1, 'random_state': 42}\n",
      "RMSE: 0.5876, R2: 0.4716\n"
     ]
    }
   ],
   "source": [
    "import pandas as pd\n",
    "import random\n",
    "import mlflow\n",
    "from mlflow.sklearn import log_model\n",
    "from sklearn.ensemble import GradientBoostingRegressor\n",
    "from sklearn.model_selection import train_test_split\n",
    "from sklearn.metrics import root_mean_squared_error, r2_score\n",
    "import joblib\n",
    "import os\n",
    "\n",
    "data = pd.read_csv(\"../data/winequality-red.csv\")\n",
    "X = data.drop(\"quality\", axis=1)\n",
    "y = data[\"quality\"]\n",
    "\n",
    "X_train, X_test, y_train, y_test = train_test_split(\n",
    "    X, y, test_size=0.2, random_state=42\n",
    ")\n",
    "\n",
    "mlflow.set_tracking_uri(\"../mlruns\")\n",
    "mlflow.set_experiment(\"wine-quality_gbr_auto\")\n",
    "\n",
    "best_model = None\n",
    "best_score = -float(\"inf\")\n",
    "best_params = None\n",
    "best_rmse = None\n",
    "\n",
    "for _ in range(10):\n",
    "    params = {\n",
    "        \"n_estimators\": random.choice([50, 100, 150]),\n",
    "        \"learning_rate\": random.choice([0.01, 0.05, 0.1]),\n",
    "        \"max_depth\": random.choice([3, 5, 7]),\n",
    "        \"min_samples_split\": random.choice([2, 3, 4]),\n",
    "        \"min_samples_leaf\": random.choice([1, 2]),\n",
    "        \"random_state\": 42\n",
    "    }\n",
    "\n",
    "    with mlflow.start_run():\n",
    "        model = GradientBoostingRegressor(**params)\n",
    "        model.fit(X_train, y_train)\n",
    "        y_pred = model.predict(X_test)\n",
    "\n",
    "        rmse = root_mean_squared_error(y_test, y_pred)\n",
    "        r2 = r2_score(y_test, y_pred)\n",
    "\n",
    "        mlflow.log_params(params)\n",
    "        mlflow.log_metric(\"rmse\", float(rmse))\n",
    "        mlflow.log_metric(\"r2_score\", float(r2))\n",
    "        log_model(model, \"model\")\n",
    "\n",
    "        print(f\"✅ {params} -> RMSE: {rmse:.4f}, R2: {r2:.4f}\")\n",
    "        if r2 > best_score:\n",
    "            best_model = model\n",
    "            best_params = params\n",
    "            best_score = r2\n",
    "            best_rmse = rmse\n",
    "\n",
    "os.makedirs(\"model\", exist_ok=True)\n",
    "joblib.dump(best_model, \"../model/best_gbr.pkl\")\n",
    "\n",
    "print(\"\\n🏆 Лучшая модель GBR:\")\n",
    "print(best_params)\n",
    "print(f\"RMSE: {best_rmse:.4f}, R2: {best_score:.4f}\")\n"
   ]
  }
 ],
 "metadata": {
  "kernelspec": {
   "display_name": ".venv",
   "language": "python",
   "name": "python3"
  },
  "language_info": {
   "codemirror_mode": {
    "name": "ipython",
    "version": 3
   },
   "file_extension": ".py",
   "mimetype": "text/x-python",
   "name": "python",
   "nbconvert_exporter": "python",
   "pygments_lexer": "ipython3",
   "version": "3.11.1"
  }
 },
 "nbformat": 4,
 "nbformat_minor": 5
}
